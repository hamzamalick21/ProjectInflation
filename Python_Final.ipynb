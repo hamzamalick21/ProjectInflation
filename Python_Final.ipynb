{
  "nbformat": 4,
  "nbformat_minor": 0,
  "metadata": {
    "colab": {
      "name": "Python Final.ipynb",
      "provenance": []
    },
    "kernelspec": {
      "name": "python3",
      "display_name": "Python 3"
    },
    "language_info": {
      "name": "python"
    }
  },
  "cells": [
    {
      "cell_type": "code",
      "execution_count": 2,
      "metadata": {
        "colab": {
          "base_uri": "https://localhost:8080/"
        },
        "id": "7bDqeJZIoFIT",
        "outputId": "6f74194e-50d6-4ba3-9169-904fb275cd85"
      },
      "outputs": [
        {
          "output_type": "stream",
          "name": "stdout",
          "text": [
            "                                      geo  2008  2009  ...  2017  2018  2019\n",
            "0   European Union (changing composition)   3.7   1.0  ...   1.7   1.9   1.5\n",
            "1           EU (27 countries - from 2020)   3.7   0.8  ...   1.6   1.8   1.4\n",
            "2                       EU (28 countries)   3.7   1.0  ...   1.7   1.9   1.5\n",
            "3        Euro area (changing composition)   3.3   0.3  ...   1.5   1.8   1.2\n",
            "4   Euro area - 19 countries  (from 2015)   3.3   0.3  ...   1.5   1.8   1.2\n",
            "5         Euro area - 18 countries (2014)   3.3   0.3  ...   1.5   1.8   1.2\n",
            "6                                 Belgium   4.5   0.0  ...   2.2   2.3   1.2\n",
            "7                                Bulgaria  12.0   2.5  ...   1.2   2.6   2.5\n",
            "8                                 Czechia   6.3   0.6  ...   2.4   2.0   2.6\n",
            "9                                 Denmark   3.6   1.0  ...   1.1   0.7   0.7\n",
            "10                                Germany   2.8   0.2  ...   1.7   1.9   1.4\n",
            "11                                Estonia  10.6   0.2  ...   3.7   3.4   2.3\n",
            "12                                Ireland   3.1  -1.7  ...   0.3   0.7   0.9\n",
            "13                                 Greece   4.2   1.3  ...   1.1   0.8   0.5\n",
            "14                                  Spain   4.1  -0.2  ...   2.0   1.7   0.8\n",
            "15                                 France   3.2   0.1  ...   1.2   2.1   1.3\n",
            "16                                Croatia   5.8   2.2  ...   1.3   1.6   0.8\n",
            "17                                  Italy   3.5   0.8  ...   1.3   1.2   0.6\n",
            "18                                 Cyprus   4.4   0.2  ...   0.7   0.8   0.5\n",
            "19                                 Latvia  15.3   3.3  ...   2.9   2.6   2.7\n",
            "20                              Lithuania  11.1   4.2  ...   3.7   2.5   2.2\n",
            "21                             Luxembourg   4.1   0.0  ...   2.1   2.0   1.6\n",
            "22                                Hungary   6.0   4.0  ...   2.4   2.9   3.4\n",
            "23                                  Malta   4.7   1.8  ...   1.3   1.7   1.5\n",
            "24                            Netherlands   2.2   1.0  ...   1.3   1.6   2.7\n",
            "25                                Austria   3.2   0.4  ...   2.2   2.1   1.5\n",
            "26                                 Poland   4.2   4.0  ...   1.6   1.2   2.1\n",
            "27                               Portugal   2.7  -0.9  ...   1.6   1.2   0.3\n",
            "28                                Romania   7.9   5.6  ...   1.1   4.1   3.9\n",
            "29                               Slovenia   5.5   0.8  ...   1.6   1.9   1.7\n",
            "30                               Slovakia   3.9   0.9  ...   1.4   2.5   2.8\n",
            "31                                Finland   3.9   1.6  ...   0.8   1.2   1.1\n",
            "32                                 Sweden   3.3   1.9  ...   1.9   2.0   1.7\n",
            "33                         United Kingdom   3.6   2.2  ...   2.7   2.5   1.8\n",
            "34                                Iceland  12.8  16.3  ...  -1.7   0.7   2.0\n",
            "35                                 Norway   3.4   2.3  ...   1.9   3.0   2.3\n",
            "36                            Switzerland   2.4  -0.7  ...   0.6   0.9   0.4\n",
            "37                        North Macedonia   7.6  -0.1  ...   2.1   2.3   0.7\n",
            "38                                 Serbia  11.9   8.2  ...   3.3   2.0   1.9\n",
            "39                                 Turkey  10.4   6.3  ...  11.1  16.3  15.2\n",
            "40                          United States   4.4  -0.8  ...   1.7   2.2   1.3\n",
            "\n",
            "[41 rows x 13 columns]\n"
          ]
        }
      ],
      "source": [
        "import pandas as pd\n",
        "import matplotlib.pyplot as plt\n",
        "import plotly.express as px\n",
        "dataset = pd.read_csv('Eurostat_Table_HICPv2.csv')\n",
        "print(dataset)\n",
        "\n"
      ]
    },
    {
      "cell_type": "code",
      "source": [
        "dataset.info()"
      ],
      "metadata": {
        "id": "FXNREiaIo7Ce",
        "outputId": "f02ba0f6-65ef-458b-ecbb-a91a1defdce6",
        "colab": {
          "base_uri": "https://localhost:8080/"
        }
      },
      "execution_count": 3,
      "outputs": [
        {
          "output_type": "stream",
          "name": "stdout",
          "text": [
            "<class 'pandas.core.frame.DataFrame'>\n",
            "RangeIndex: 41 entries, 0 to 40\n",
            "Data columns (total 13 columns):\n",
            " #   Column  Non-Null Count  Dtype  \n",
            "---  ------  --------------  -----  \n",
            " 0   geo     41 non-null     object \n",
            " 1   2008    41 non-null     float64\n",
            " 2   2009    41 non-null     float64\n",
            " 3   2010    41 non-null     float64\n",
            " 4   2011    41 non-null     float64\n",
            " 5   2012    41 non-null     float64\n",
            " 6   2013    41 non-null     float64\n",
            " 7   2014    41 non-null     float64\n",
            " 8   2015    41 non-null     float64\n",
            " 9   2016    41 non-null     float64\n",
            " 10  2017    41 non-null     float64\n",
            " 11  2018    41 non-null     float64\n",
            " 12  2019    41 non-null     float64\n",
            "dtypes: float64(12), object(1)\n",
            "memory usage: 4.3+ KB\n"
          ]
        }
      ]
    },
    {
      "cell_type": "code",
      "source": [
        "years = dataset.columns.tolist()[1:]\n",
        "#Rearrange the Datatset\n",
        "df = pd.melt(frame=dataset, id_vars='geo', value_vars=dataset.columns.tolist()[1:], var_name='years', value_name='inflation_rate')\n",
        "print(df)\n"
      ],
      "metadata": {
        "colab": {
          "base_uri": "https://localhost:8080/"
        },
        "id": "itjIFp8Bom4q",
        "outputId": "b49dbc9c-2396-4ae6-e64f-89c77d053f98"
      },
      "execution_count": 4,
      "outputs": [
        {
          "output_type": "stream",
          "name": "stdout",
          "text": [
            "                                       geo years  inflation_rate\n",
            "0    European Union (changing composition)  2008             3.7\n",
            "1            EU (27 countries - from 2020)  2008             3.7\n",
            "2                        EU (28 countries)  2008             3.7\n",
            "3         Euro area (changing composition)  2008             3.3\n",
            "4    Euro area - 19 countries  (from 2015)  2008             3.3\n",
            "..                                     ...   ...             ...\n",
            "487                            Switzerland  2019             0.4\n",
            "488                        North Macedonia  2019             0.7\n",
            "489                                 Serbia  2019             1.9\n",
            "490                                 Turkey  2019            15.2\n",
            "491                          United States  2019             1.3\n",
            "\n",
            "[492 rows x 3 columns]\n"
          ]
        }
      ]
    },
    {
      "cell_type": "code",
      "source": [
        "#Setting Axis of Graph and Colors\n",
        "#Creating Figure\n",
        "fig = px.line(df, x=\"years\", y=\"inflation_rate\", color=\"geo\",title= 'Inflation Rates Comparison')\n",
        "fig.show()"
      ],
      "metadata": {
        "colab": {
          "base_uri": "https://localhost:8080/",
          "height": 542
        },
        "id": "QGrZ3jaCotYA",
        "outputId": "a4dcf323-0b74-492b-d2bc-768acbe08600"
      },
      "execution_count": 5,
      "outputs": [
        {
          "output_type": "display_data",
          "data": {
            "text/html": [
              "<html>\n",
              "<head><meta charset=\"utf-8\" /></head>\n",
              "<body>\n",
              "    <div>\n",
              "            <script src=\"https://cdnjs.cloudflare.com/ajax/libs/mathjax/2.7.5/MathJax.js?config=TeX-AMS-MML_SVG\"></script><script type=\"text/javascript\">if (window.MathJax) {MathJax.Hub.Config({SVG: {font: \"STIX-Web\"}});}</script>\n",
              "                <script type=\"text/javascript\">window.PlotlyConfig = {MathJaxConfig: 'local'};</script>\n",
              "        <script src=\"https://cdn.plot.ly/plotly-latest.min.js\"></script>    \n",
              "            <div id=\"66d40e33-e05f-47c8-b02c-f87ea33f54ce\" class=\"plotly-graph-div\" style=\"height:525px; width:100%;\"></div>\n",
              "            <script type=\"text/javascript\">\n",
              "                \n",
              "                    window.PLOTLYENV=window.PLOTLYENV || {};\n",
              "                    \n",
              "                if (document.getElementById(\"66d40e33-e05f-47c8-b02c-f87ea33f54ce\")) {\n",
              "                    Plotly.newPlot(\n",
              "                        '66d40e33-e05f-47c8-b02c-f87ea33f54ce',\n",
              "                        [{\"hoverlabel\": {\"namelength\": 0}, \"hovertemplate\": \"geo=European Union (changing composition)<br>years=%{x}<br>inflation_rate=%{y}\", \"legendgroup\": \"geo=European Union (changing composition)\", \"line\": {\"color\": \"#636efa\", \"dash\": \"solid\"}, \"mode\": \"lines\", \"name\": \"geo=European Union (changing composition)\", \"showlegend\": true, \"type\": \"scatter\", \"x\": [\"2008\", \"2009\", \"2010\", \"2011\", \"2012\", \"2013\", \"2014\", \"2015\", \"2016\", \"2017\", \"2018\", \"2019\"], \"xaxis\": \"x\", \"y\": [3.7, 1.0, 2.1, 3.1, 2.6, 1.5, 0.6, 0.1, 0.2, 1.7, 1.9, 1.5], \"yaxis\": \"y\"}, {\"hoverlabel\": {\"namelength\": 0}, \"hovertemplate\": \"geo=EU (27 countries - from 2020)<br>years=%{x}<br>inflation_rate=%{y}\", \"legendgroup\": \"geo=EU (27 countries - from 2020)\", \"line\": {\"color\": \"#EF553B\", \"dash\": \"solid\"}, \"mode\": \"lines\", \"name\": \"geo=EU (27 countries - from 2020)\", \"showlegend\": true, \"type\": \"scatter\", \"x\": [\"2008\", \"2009\", \"2010\", \"2011\", \"2012\", \"2013\", \"2014\", \"2015\", \"2016\", \"2017\", \"2018\", \"2019\"], \"xaxis\": \"x\", \"y\": [3.7, 0.8, 1.8, 2.9, 2.6, 1.3, 0.4, 0.1, 0.2, 1.6, 1.8, 1.4], \"yaxis\": \"y\"}, {\"hoverlabel\": {\"namelength\": 0}, \"hovertemplate\": \"geo=EU (28 countries)<br>years=%{x}<br>inflation_rate=%{y}\", \"legendgroup\": \"geo=EU (28 countries)\", \"line\": {\"color\": \"#00cc96\", \"dash\": \"solid\"}, \"mode\": \"lines\", \"name\": \"geo=EU (28 countries)\", \"showlegend\": true, \"type\": \"scatter\", \"x\": [\"2008\", \"2009\", \"2010\", \"2011\", \"2012\", \"2013\", \"2014\", \"2015\", \"2016\", \"2017\", \"2018\", \"2019\"], \"xaxis\": \"x\", \"y\": [3.7, 1.0, 2.1, 3.1, 2.6, 1.5, 0.6, 0.1, 0.2, 1.7, 1.9, 1.5], \"yaxis\": \"y\"}, {\"hoverlabel\": {\"namelength\": 0}, \"hovertemplate\": \"geo=Euro area (changing composition)<br>years=%{x}<br>inflation_rate=%{y}\", \"legendgroup\": \"geo=Euro area (changing composition)\", \"line\": {\"color\": \"#ab63fa\", \"dash\": \"solid\"}, \"mode\": \"lines\", \"name\": \"geo=Euro area (changing composition)\", \"showlegend\": true, \"type\": \"scatter\", \"x\": [\"2008\", \"2009\", \"2010\", \"2011\", \"2012\", \"2013\", \"2014\", \"2015\", \"2016\", \"2017\", \"2018\", \"2019\"], \"xaxis\": \"x\", \"y\": [3.3, 0.3, 1.6, 2.7, 2.5, 1.4, 0.4, 0.2, 0.2, 1.5, 1.8, 1.2], \"yaxis\": \"y\"}, {\"hoverlabel\": {\"namelength\": 0}, \"hovertemplate\": \"geo=Euro area - 19 countries  (from 2015)<br>years=%{x}<br>inflation_rate=%{y}\", \"legendgroup\": \"geo=Euro area - 19 countries  (from 2015)\", \"line\": {\"color\": \"#FFA15A\", \"dash\": \"solid\"}, \"mode\": \"lines\", \"name\": \"geo=Euro area - 19 countries  (from 2015)\", \"showlegend\": true, \"type\": \"scatter\", \"x\": [\"2008\", \"2009\", \"2010\", \"2011\", \"2012\", \"2013\", \"2014\", \"2015\", \"2016\", \"2017\", \"2018\", \"2019\"], \"xaxis\": \"x\", \"y\": [3.3, 0.3, 1.6, 2.7, 2.5, 1.3, 0.4, 0.2, 0.2, 1.5, 1.8, 1.2], \"yaxis\": \"y\"}, {\"hoverlabel\": {\"namelength\": 0}, \"hovertemplate\": \"geo=Euro area - 18 countries (2014)<br>years=%{x}<br>inflation_rate=%{y}\", \"legendgroup\": \"geo=Euro area - 18 countries (2014)\", \"line\": {\"color\": \"#19d3f3\", \"dash\": \"solid\"}, \"mode\": \"lines\", \"name\": \"geo=Euro area - 18 countries (2014)\", \"showlegend\": true, \"type\": \"scatter\", \"x\": [\"2008\", \"2009\", \"2010\", \"2011\", \"2012\", \"2013\", \"2014\", \"2015\", \"2016\", \"2017\", \"2018\", \"2019\"], \"xaxis\": \"x\", \"y\": [3.3, 0.3, 1.6, 2.7, 2.5, 1.4, 0.4, 0.2, 0.2, 1.5, 1.8, 1.2], \"yaxis\": \"y\"}, {\"hoverlabel\": {\"namelength\": 0}, \"hovertemplate\": \"geo=Belgium<br>years=%{x}<br>inflation_rate=%{y}\", \"legendgroup\": \"geo=Belgium\", \"line\": {\"color\": \"#FF6692\", \"dash\": \"solid\"}, \"mode\": \"lines\", \"name\": \"geo=Belgium\", \"showlegend\": true, \"type\": \"scatter\", \"x\": [\"2008\", \"2009\", \"2010\", \"2011\", \"2012\", \"2013\", \"2014\", \"2015\", \"2016\", \"2017\", \"2018\", \"2019\"], \"xaxis\": \"x\", \"y\": [4.5, 0.0, 2.3, 3.4, 2.6, 1.2, 0.5, 0.6, 1.8, 2.2, 2.3, 1.2], \"yaxis\": \"y\"}, {\"hoverlabel\": {\"namelength\": 0}, \"hovertemplate\": \"geo=Bulgaria<br>years=%{x}<br>inflation_rate=%{y}\", \"legendgroup\": \"geo=Bulgaria\", \"line\": {\"color\": \"#B6E880\", \"dash\": \"solid\"}, \"mode\": \"lines\", \"name\": \"geo=Bulgaria\", \"showlegend\": true, \"type\": \"scatter\", \"x\": [\"2008\", \"2009\", \"2010\", \"2011\", \"2012\", \"2013\", \"2014\", \"2015\", \"2016\", \"2017\", \"2018\", \"2019\"], \"xaxis\": \"x\", \"y\": [12.0, 2.5, 3.0, 3.4, 2.4, 0.4, -1.6, -1.1, -1.3, 1.2, 2.6, 2.5], \"yaxis\": \"y\"}, {\"hoverlabel\": {\"namelength\": 0}, \"hovertemplate\": \"geo=Czechia<br>years=%{x}<br>inflation_rate=%{y}\", \"legendgroup\": \"geo=Czechia\", \"line\": {\"color\": \"#FF97FF\", \"dash\": \"solid\"}, \"mode\": \"lines\", \"name\": \"geo=Czechia\", \"showlegend\": true, \"type\": \"scatter\", \"x\": [\"2008\", \"2009\", \"2010\", \"2011\", \"2012\", \"2013\", \"2014\", \"2015\", \"2016\", \"2017\", \"2018\", \"2019\"], \"xaxis\": \"x\", \"y\": [6.3, 0.6, 1.2, 2.2, 3.5, 1.4, 0.4, 0.3, 0.6, 2.4, 2.0, 2.6], \"yaxis\": \"y\"}, {\"hoverlabel\": {\"namelength\": 0}, \"hovertemplate\": \"geo=Denmark<br>years=%{x}<br>inflation_rate=%{y}\", \"legendgroup\": \"geo=Denmark\", \"line\": {\"color\": \"#FECB52\", \"dash\": \"solid\"}, \"mode\": \"lines\", \"name\": \"geo=Denmark\", \"showlegend\": true, \"type\": \"scatter\", \"x\": [\"2008\", \"2009\", \"2010\", \"2011\", \"2012\", \"2013\", \"2014\", \"2015\", \"2016\", \"2017\", \"2018\", \"2019\"], \"xaxis\": \"x\", \"y\": [3.6, 1.0, 2.2, 2.7, 2.4, 0.5, 0.4, 0.2, 0.0, 1.1, 0.7, 0.7], \"yaxis\": \"y\"}, {\"hoverlabel\": {\"namelength\": 0}, \"hovertemplate\": \"geo=Germany<br>years=%{x}<br>inflation_rate=%{y}\", \"legendgroup\": \"geo=Germany\", \"line\": {\"color\": \"#636efa\", \"dash\": \"solid\"}, \"mode\": \"lines\", \"name\": \"geo=Germany\", \"showlegend\": true, \"type\": \"scatter\", \"x\": [\"2008\", \"2009\", \"2010\", \"2011\", \"2012\", \"2013\", \"2014\", \"2015\", \"2016\", \"2017\", \"2018\", \"2019\"], \"xaxis\": \"x\", \"y\": [2.8, 0.2, 1.1, 2.5, 2.2, 1.6, 0.8, 0.7, 0.4, 1.7, 1.9, 1.4], \"yaxis\": \"y\"}, {\"hoverlabel\": {\"namelength\": 0}, \"hovertemplate\": \"geo=Estonia<br>years=%{x}<br>inflation_rate=%{y}\", \"legendgroup\": \"geo=Estonia\", \"line\": {\"color\": \"#EF553B\", \"dash\": \"solid\"}, \"mode\": \"lines\", \"name\": \"geo=Estonia\", \"showlegend\": true, \"type\": \"scatter\", \"x\": [\"2008\", \"2009\", \"2010\", \"2011\", \"2012\", \"2013\", \"2014\", \"2015\", \"2016\", \"2017\", \"2018\", \"2019\"], \"xaxis\": \"x\", \"y\": [10.6, 0.2, 2.7, 5.1, 4.2, 3.2, 0.5, 0.1, 0.8, 3.7, 3.4, 2.3], \"yaxis\": \"y\"}, {\"hoverlabel\": {\"namelength\": 0}, \"hovertemplate\": \"geo=Ireland<br>years=%{x}<br>inflation_rate=%{y}\", \"legendgroup\": \"geo=Ireland\", \"line\": {\"color\": \"#00cc96\", \"dash\": \"solid\"}, \"mode\": \"lines\", \"name\": \"geo=Ireland\", \"showlegend\": true, \"type\": \"scatter\", \"x\": [\"2008\", \"2009\", \"2010\", \"2011\", \"2012\", \"2013\", \"2014\", \"2015\", \"2016\", \"2017\", \"2018\", \"2019\"], \"xaxis\": \"x\", \"y\": [3.1, -1.7, -1.6, 1.2, 1.9, 0.5, 0.3, 0.0, -0.2, 0.3, 0.7, 0.9], \"yaxis\": \"y\"}, {\"hoverlabel\": {\"namelength\": 0}, \"hovertemplate\": \"geo=Greece<br>years=%{x}<br>inflation_rate=%{y}\", \"legendgroup\": \"geo=Greece\", \"line\": {\"color\": \"#ab63fa\", \"dash\": \"solid\"}, \"mode\": \"lines\", \"name\": \"geo=Greece\", \"showlegend\": true, \"type\": \"scatter\", \"x\": [\"2008\", \"2009\", \"2010\", \"2011\", \"2012\", \"2013\", \"2014\", \"2015\", \"2016\", \"2017\", \"2018\", \"2019\"], \"xaxis\": \"x\", \"y\": [4.2, 1.3, 4.7, 3.1, 1.0, -0.9, -1.4, -1.1, 0.0, 1.1, 0.8, 0.5], \"yaxis\": \"y\"}, {\"hoverlabel\": {\"namelength\": 0}, \"hovertemplate\": \"geo=Spain<br>years=%{x}<br>inflation_rate=%{y}\", \"legendgroup\": \"geo=Spain\", \"line\": {\"color\": \"#FFA15A\", \"dash\": \"solid\"}, \"mode\": \"lines\", \"name\": \"geo=Spain\", \"showlegend\": true, \"type\": \"scatter\", \"x\": [\"2008\", \"2009\", \"2010\", \"2011\", \"2012\", \"2013\", \"2014\", \"2015\", \"2016\", \"2017\", \"2018\", \"2019\"], \"xaxis\": \"x\", \"y\": [4.1, -0.2, 2.0, 3.0, 2.4, 1.5, -0.2, -0.6, -0.3, 2.0, 1.7, 0.8], \"yaxis\": \"y\"}, {\"hoverlabel\": {\"namelength\": 0}, \"hovertemplate\": \"geo=France<br>years=%{x}<br>inflation_rate=%{y}\", \"legendgroup\": \"geo=France\", \"line\": {\"color\": \"#19d3f3\", \"dash\": \"solid\"}, \"mode\": \"lines\", \"name\": \"geo=France\", \"showlegend\": true, \"type\": \"scatter\", \"x\": [\"2008\", \"2009\", \"2010\", \"2011\", \"2012\", \"2013\", \"2014\", \"2015\", \"2016\", \"2017\", \"2018\", \"2019\"], \"xaxis\": \"x\", \"y\": [3.2, 0.1, 1.7, 2.3, 2.2, 1.0, 0.6, 0.1, 0.3, 1.2, 2.1, 1.3], \"yaxis\": \"y\"}, {\"hoverlabel\": {\"namelength\": 0}, \"hovertemplate\": \"geo=Croatia<br>years=%{x}<br>inflation_rate=%{y}\", \"legendgroup\": \"geo=Croatia\", \"line\": {\"color\": \"#FF6692\", \"dash\": \"solid\"}, \"mode\": \"lines\", \"name\": \"geo=Croatia\", \"showlegend\": true, \"type\": \"scatter\", \"x\": [\"2008\", \"2009\", \"2010\", \"2011\", \"2012\", \"2013\", \"2014\", \"2015\", \"2016\", \"2017\", \"2018\", \"2019\"], \"xaxis\": \"x\", \"y\": [5.8, 2.2, 1.1, 2.2, 3.4, 2.3, 0.2, -0.3, -0.6, 1.3, 1.6, 0.8], \"yaxis\": \"y\"}, {\"hoverlabel\": {\"namelength\": 0}, \"hovertemplate\": \"geo=Italy<br>years=%{x}<br>inflation_rate=%{y}\", \"legendgroup\": \"geo=Italy\", \"line\": {\"color\": \"#B6E880\", \"dash\": \"solid\"}, \"mode\": \"lines\", \"name\": \"geo=Italy\", \"showlegend\": true, \"type\": \"scatter\", \"x\": [\"2008\", \"2009\", \"2010\", \"2011\", \"2012\", \"2013\", \"2014\", \"2015\", \"2016\", \"2017\", \"2018\", \"2019\"], \"xaxis\": \"x\", \"y\": [3.5, 0.8, 1.6, 2.9, 3.3, 1.2, 0.2, 0.1, -0.1, 1.3, 1.2, 0.6], \"yaxis\": \"y\"}, {\"hoverlabel\": {\"namelength\": 0}, \"hovertemplate\": \"geo=Cyprus<br>years=%{x}<br>inflation_rate=%{y}\", \"legendgroup\": \"geo=Cyprus\", \"line\": {\"color\": \"#FF97FF\", \"dash\": \"solid\"}, \"mode\": \"lines\", \"name\": \"geo=Cyprus\", \"showlegend\": true, \"type\": \"scatter\", \"x\": [\"2008\", \"2009\", \"2010\", \"2011\", \"2012\", \"2013\", \"2014\", \"2015\", \"2016\", \"2017\", \"2018\", \"2019\"], \"xaxis\": \"x\", \"y\": [4.4, 0.2, 2.6, 3.5, 3.1, 0.4, -0.3, -1.5, -1.2, 0.7, 0.8, 0.5], \"yaxis\": \"y\"}, {\"hoverlabel\": {\"namelength\": 0}, \"hovertemplate\": \"geo=Latvia<br>years=%{x}<br>inflation_rate=%{y}\", \"legendgroup\": \"geo=Latvia\", \"line\": {\"color\": \"#FECB52\", \"dash\": \"solid\"}, \"mode\": \"lines\", \"name\": \"geo=Latvia\", \"showlegend\": true, \"type\": \"scatter\", \"x\": [\"2008\", \"2009\", \"2010\", \"2011\", \"2012\", \"2013\", \"2014\", \"2015\", \"2016\", \"2017\", \"2018\", \"2019\"], \"xaxis\": \"x\", \"y\": [15.3, 3.3, -1.2, 4.2, 2.3, 0.0, 0.7, 0.2, 0.1, 2.9, 2.6, 2.7], \"yaxis\": \"y\"}, {\"hoverlabel\": {\"namelength\": 0}, \"hovertemplate\": \"geo=Lithuania<br>years=%{x}<br>inflation_rate=%{y}\", \"legendgroup\": \"geo=Lithuania\", \"line\": {\"color\": \"#636efa\", \"dash\": \"solid\"}, \"mode\": \"lines\", \"name\": \"geo=Lithuania\", \"showlegend\": true, \"type\": \"scatter\", \"x\": [\"2008\", \"2009\", \"2010\", \"2011\", \"2012\", \"2013\", \"2014\", \"2015\", \"2016\", \"2017\", \"2018\", \"2019\"], \"xaxis\": \"x\", \"y\": [11.1, 4.2, 1.2, 4.1, 3.2, 1.2, 0.2, -0.7, 0.7, 3.7, 2.5, 2.2], \"yaxis\": \"y\"}, {\"hoverlabel\": {\"namelength\": 0}, \"hovertemplate\": \"geo=Luxembourg<br>years=%{x}<br>inflation_rate=%{y}\", \"legendgroup\": \"geo=Luxembourg\", \"line\": {\"color\": \"#EF553B\", \"dash\": \"solid\"}, \"mode\": \"lines\", \"name\": \"geo=Luxembourg\", \"showlegend\": true, \"type\": \"scatter\", \"x\": [\"2008\", \"2009\", \"2010\", \"2011\", \"2012\", \"2013\", \"2014\", \"2015\", \"2016\", \"2017\", \"2018\", \"2019\"], \"xaxis\": \"x\", \"y\": [4.1, 0.0, 2.8, 3.7, 2.9, 1.7, 0.7, 0.1, 0.0, 2.1, 2.0, 1.6], \"yaxis\": \"y\"}, {\"hoverlabel\": {\"namelength\": 0}, \"hovertemplate\": \"geo=Hungary<br>years=%{x}<br>inflation_rate=%{y}\", \"legendgroup\": \"geo=Hungary\", \"line\": {\"color\": \"#00cc96\", \"dash\": \"solid\"}, \"mode\": \"lines\", \"name\": \"geo=Hungary\", \"showlegend\": true, \"type\": \"scatter\", \"x\": [\"2008\", \"2009\", \"2010\", \"2011\", \"2012\", \"2013\", \"2014\", \"2015\", \"2016\", \"2017\", \"2018\", \"2019\"], \"xaxis\": \"x\", \"y\": [6.0, 4.0, 4.7, 3.9, 5.7, 1.7, 0.0, 0.1, 0.4, 2.4, 2.9, 3.4], \"yaxis\": \"y\"}, {\"hoverlabel\": {\"namelength\": 0}, \"hovertemplate\": \"geo=Malta<br>years=%{x}<br>inflation_rate=%{y}\", \"legendgroup\": \"geo=Malta\", \"line\": {\"color\": \"#ab63fa\", \"dash\": \"solid\"}, \"mode\": \"lines\", \"name\": \"geo=Malta\", \"showlegend\": true, \"type\": \"scatter\", \"x\": [\"2008\", \"2009\", \"2010\", \"2011\", \"2012\", \"2013\", \"2014\", \"2015\", \"2016\", \"2017\", \"2018\", \"2019\"], \"xaxis\": \"x\", \"y\": [4.7, 1.8, 2.0, 2.5, 3.2, 1.0, 0.8, 1.2, 0.9, 1.3, 1.7, 1.5], \"yaxis\": \"y\"}, {\"hoverlabel\": {\"namelength\": 0}, \"hovertemplate\": \"geo=Netherlands<br>years=%{x}<br>inflation_rate=%{y}\", \"legendgroup\": \"geo=Netherlands\", \"line\": {\"color\": \"#FFA15A\", \"dash\": \"solid\"}, \"mode\": \"lines\", \"name\": \"geo=Netherlands\", \"showlegend\": true, \"type\": \"scatter\", \"x\": [\"2008\", \"2009\", \"2010\", \"2011\", \"2012\", \"2013\", \"2014\", \"2015\", \"2016\", \"2017\", \"2018\", \"2019\"], \"xaxis\": \"x\", \"y\": [2.2, 1.0, 0.9, 2.5, 2.8, 2.6, 0.3, 0.2, 0.1, 1.3, 1.6, 2.7], \"yaxis\": \"y\"}, {\"hoverlabel\": {\"namelength\": 0}, \"hovertemplate\": \"geo=Austria<br>years=%{x}<br>inflation_rate=%{y}\", \"legendgroup\": \"geo=Austria\", \"line\": {\"color\": \"#19d3f3\", \"dash\": \"solid\"}, \"mode\": \"lines\", \"name\": \"geo=Austria\", \"showlegend\": true, \"type\": \"scatter\", \"x\": [\"2008\", \"2009\", \"2010\", \"2011\", \"2012\", \"2013\", \"2014\", \"2015\", \"2016\", \"2017\", \"2018\", \"2019\"], \"xaxis\": \"x\", \"y\": [3.2, 0.4, 1.7, 3.6, 2.6, 2.1, 1.5, 0.8, 1.0, 2.2, 2.1, 1.5], \"yaxis\": \"y\"}, {\"hoverlabel\": {\"namelength\": 0}, \"hovertemplate\": \"geo=Poland<br>years=%{x}<br>inflation_rate=%{y}\", \"legendgroup\": \"geo=Poland\", \"line\": {\"color\": \"#FF6692\", \"dash\": \"solid\"}, \"mode\": \"lines\", \"name\": \"geo=Poland\", \"showlegend\": true, \"type\": \"scatter\", \"x\": [\"2008\", \"2009\", \"2010\", \"2011\", \"2012\", \"2013\", \"2014\", \"2015\", \"2016\", \"2017\", \"2018\", \"2019\"], \"xaxis\": \"x\", \"y\": [4.2, 4.0, 2.6, 3.9, 3.7, 0.8, 0.1, -0.7, -0.2, 1.6, 1.2, 2.1], \"yaxis\": \"y\"}, {\"hoverlabel\": {\"namelength\": 0}, \"hovertemplate\": \"geo=Portugal<br>years=%{x}<br>inflation_rate=%{y}\", \"legendgroup\": \"geo=Portugal\", \"line\": {\"color\": \"#B6E880\", \"dash\": \"solid\"}, \"mode\": \"lines\", \"name\": \"geo=Portugal\", \"showlegend\": true, \"type\": \"scatter\", \"x\": [\"2008\", \"2009\", \"2010\", \"2011\", \"2012\", \"2013\", \"2014\", \"2015\", \"2016\", \"2017\", \"2018\", \"2019\"], \"xaxis\": \"x\", \"y\": [2.7, -0.9, 1.4, 3.6, 2.8, 0.4, -0.2, 0.5, 0.6, 1.6, 1.2, 0.3], \"yaxis\": \"y\"}, {\"hoverlabel\": {\"namelength\": 0}, \"hovertemplate\": \"geo=Romania<br>years=%{x}<br>inflation_rate=%{y}\", \"legendgroup\": \"geo=Romania\", \"line\": {\"color\": \"#FF97FF\", \"dash\": \"solid\"}, \"mode\": \"lines\", \"name\": \"geo=Romania\", \"showlegend\": true, \"type\": \"scatter\", \"x\": [\"2008\", \"2009\", \"2010\", \"2011\", \"2012\", \"2013\", \"2014\", \"2015\", \"2016\", \"2017\", \"2018\", \"2019\"], \"xaxis\": \"x\", \"y\": [7.9, 5.6, 6.1, 5.8, 3.4, 3.2, 1.4, -0.4, -1.1, 1.1, 4.1, 3.9], \"yaxis\": \"y\"}, {\"hoverlabel\": {\"namelength\": 0}, \"hovertemplate\": \"geo=Slovenia<br>years=%{x}<br>inflation_rate=%{y}\", \"legendgroup\": \"geo=Slovenia\", \"line\": {\"color\": \"#FECB52\", \"dash\": \"solid\"}, \"mode\": \"lines\", \"name\": \"geo=Slovenia\", \"showlegend\": true, \"type\": \"scatter\", \"x\": [\"2008\", \"2009\", \"2010\", \"2011\", \"2012\", \"2013\", \"2014\", \"2015\", \"2016\", \"2017\", \"2018\", \"2019\"], \"xaxis\": \"x\", \"y\": [5.5, 0.8, 2.1, 2.1, 2.8, 1.9, 0.4, -0.8, -0.2, 1.6, 1.9, 1.7], \"yaxis\": \"y\"}, {\"hoverlabel\": {\"namelength\": 0}, \"hovertemplate\": \"geo=Slovakia<br>years=%{x}<br>inflation_rate=%{y}\", \"legendgroup\": \"geo=Slovakia\", \"line\": {\"color\": \"#636efa\", \"dash\": \"solid\"}, \"mode\": \"lines\", \"name\": \"geo=Slovakia\", \"showlegend\": true, \"type\": \"scatter\", \"x\": [\"2008\", \"2009\", \"2010\", \"2011\", \"2012\", \"2013\", \"2014\", \"2015\", \"2016\", \"2017\", \"2018\", \"2019\"], \"xaxis\": \"x\", \"y\": [3.9, 0.9, 0.7, 4.1, 3.7, 1.5, -0.1, -0.3, -0.5, 1.4, 2.5, 2.8], \"yaxis\": \"y\"}, {\"hoverlabel\": {\"namelength\": 0}, \"hovertemplate\": \"geo=Finland<br>years=%{x}<br>inflation_rate=%{y}\", \"legendgroup\": \"geo=Finland\", \"line\": {\"color\": \"#EF553B\", \"dash\": \"solid\"}, \"mode\": \"lines\", \"name\": \"geo=Finland\", \"showlegend\": true, \"type\": \"scatter\", \"x\": [\"2008\", \"2009\", \"2010\", \"2011\", \"2012\", \"2013\", \"2014\", \"2015\", \"2016\", \"2017\", \"2018\", \"2019\"], \"xaxis\": \"x\", \"y\": [3.9, 1.6, 1.7, 3.3, 3.2, 2.2, 1.2, -0.2, 0.4, 0.8, 1.2, 1.1], \"yaxis\": \"y\"}, {\"hoverlabel\": {\"namelength\": 0}, \"hovertemplate\": \"geo=Sweden<br>years=%{x}<br>inflation_rate=%{y}\", \"legendgroup\": \"geo=Sweden\", \"line\": {\"color\": \"#00cc96\", \"dash\": \"solid\"}, \"mode\": \"lines\", \"name\": \"geo=Sweden\", \"showlegend\": true, \"type\": \"scatter\", \"x\": [\"2008\", \"2009\", \"2010\", \"2011\", \"2012\", \"2013\", \"2014\", \"2015\", \"2016\", \"2017\", \"2018\", \"2019\"], \"xaxis\": \"x\", \"y\": [3.3, 1.9, 1.9, 1.4, 0.9, 0.4, 0.2, 0.7, 1.1, 1.9, 2.0, 1.7], \"yaxis\": \"y\"}, {\"hoverlabel\": {\"namelength\": 0}, \"hovertemplate\": \"geo=United Kingdom<br>years=%{x}<br>inflation_rate=%{y}\", \"legendgroup\": \"geo=United Kingdom\", \"line\": {\"color\": \"#ab63fa\", \"dash\": \"solid\"}, \"mode\": \"lines\", \"name\": \"geo=United Kingdom\", \"showlegend\": true, \"type\": \"scatter\", \"x\": [\"2008\", \"2009\", \"2010\", \"2011\", \"2012\", \"2013\", \"2014\", \"2015\", \"2016\", \"2017\", \"2018\", \"2019\"], \"xaxis\": \"x\", \"y\": [3.6, 2.2, 3.3, 4.5, 2.8, 2.6, 1.5, 0.0, 0.7, 2.7, 2.5, 1.8], \"yaxis\": \"y\"}, {\"hoverlabel\": {\"namelength\": 0}, \"hovertemplate\": \"geo=Iceland<br>years=%{x}<br>inflation_rate=%{y}\", \"legendgroup\": \"geo=Iceland\", \"line\": {\"color\": \"#FFA15A\", \"dash\": \"solid\"}, \"mode\": \"lines\", \"name\": \"geo=Iceland\", \"showlegend\": true, \"type\": \"scatter\", \"x\": [\"2008\", \"2009\", \"2010\", \"2011\", \"2012\", \"2013\", \"2014\", \"2015\", \"2016\", \"2017\", \"2018\", \"2019\"], \"xaxis\": \"x\", \"y\": [12.8, 16.3, 7.5, 4.2, 6.0, 4.1, 1.0, 0.3, 0.8, -1.7, 0.7, 2.0], \"yaxis\": \"y\"}, {\"hoverlabel\": {\"namelength\": 0}, \"hovertemplate\": \"geo=Norway<br>years=%{x}<br>inflation_rate=%{y}\", \"legendgroup\": \"geo=Norway\", \"line\": {\"color\": \"#19d3f3\", \"dash\": \"solid\"}, \"mode\": \"lines\", \"name\": \"geo=Norway\", \"showlegend\": true, \"type\": \"scatter\", \"x\": [\"2008\", \"2009\", \"2010\", \"2011\", \"2012\", \"2013\", \"2014\", \"2015\", \"2016\", \"2017\", \"2018\", \"2019\"], \"xaxis\": \"x\", \"y\": [3.4, 2.3, 2.3, 1.3, 0.4, 2.0, 1.9, 2.0, 3.9, 1.9, 3.0, 2.3], \"yaxis\": \"y\"}, {\"hoverlabel\": {\"namelength\": 0}, \"hovertemplate\": \"geo=Switzerland<br>years=%{x}<br>inflation_rate=%{y}\", \"legendgroup\": \"geo=Switzerland\", \"line\": {\"color\": \"#FF6692\", \"dash\": \"solid\"}, \"mode\": \"lines\", \"name\": \"geo=Switzerland\", \"showlegend\": true, \"type\": \"scatter\", \"x\": [\"2008\", \"2009\", \"2010\", \"2011\", \"2012\", \"2013\", \"2014\", \"2015\", \"2016\", \"2017\", \"2018\", \"2019\"], \"xaxis\": \"x\", \"y\": [2.4, -0.7, 0.6, 0.1, -0.7, 0.1, 0.0, -0.8, -0.5, 0.6, 0.9, 0.4], \"yaxis\": \"y\"}, {\"hoverlabel\": {\"namelength\": 0}, \"hovertemplate\": \"geo=North Macedonia<br>years=%{x}<br>inflation_rate=%{y}\", \"legendgroup\": \"geo=North Macedonia\", \"line\": {\"color\": \"#B6E880\", \"dash\": \"solid\"}, \"mode\": \"lines\", \"name\": \"geo=North Macedonia\", \"showlegend\": true, \"type\": \"scatter\", \"x\": [\"2008\", \"2009\", \"2010\", \"2011\", \"2012\", \"2013\", \"2014\", \"2015\", \"2016\", \"2017\", \"2018\", \"2019\"], \"xaxis\": \"x\", \"y\": [7.6, -0.1, 1.1, 3.2, 1.8, 2.7, 0.0, 0.1, 0.2, 2.1, 2.3, 0.7], \"yaxis\": \"y\"}, {\"hoverlabel\": {\"namelength\": 0}, \"hovertemplate\": \"geo=Serbia<br>years=%{x}<br>inflation_rate=%{y}\", \"legendgroup\": \"geo=Serbia\", \"line\": {\"color\": \"#FF97FF\", \"dash\": \"solid\"}, \"mode\": \"lines\", \"name\": \"geo=Serbia\", \"showlegend\": true, \"type\": \"scatter\", \"x\": [\"2008\", \"2009\", \"2010\", \"2011\", \"2012\", \"2013\", \"2014\", \"2015\", \"2016\", \"2017\", \"2018\", \"2019\"], \"xaxis\": \"x\", \"y\": [11.9, 8.2, 6.2, 11.2, 7.4, 7.7, 2.3, 1.5, 1.3, 3.3, 2.0, 1.9], \"yaxis\": \"y\"}, {\"hoverlabel\": {\"namelength\": 0}, \"hovertemplate\": \"geo=Turkey<br>years=%{x}<br>inflation_rate=%{y}\", \"legendgroup\": \"geo=Turkey\", \"line\": {\"color\": \"#FECB52\", \"dash\": \"solid\"}, \"mode\": \"lines\", \"name\": \"geo=Turkey\", \"showlegend\": true, \"type\": \"scatter\", \"x\": [\"2008\", \"2009\", \"2010\", \"2011\", \"2012\", \"2013\", \"2014\", \"2015\", \"2016\", \"2017\", \"2018\", \"2019\"], \"xaxis\": \"x\", \"y\": [10.4, 6.3, 8.6, 6.5, 9.0, 7.5, 8.9, 7.7, 7.7, 11.1, 16.3, 15.2], \"yaxis\": \"y\"}, {\"hoverlabel\": {\"namelength\": 0}, \"hovertemplate\": \"geo=United States<br>years=%{x}<br>inflation_rate=%{y}\", \"legendgroup\": \"geo=United States\", \"line\": {\"color\": \"#636efa\", \"dash\": \"solid\"}, \"mode\": \"lines\", \"name\": \"geo=United States\", \"showlegend\": true, \"type\": \"scatter\", \"x\": [\"2008\", \"2009\", \"2010\", \"2011\", \"2012\", \"2013\", \"2014\", \"2015\", \"2016\", \"2017\", \"2018\", \"2019\"], \"xaxis\": \"x\", \"y\": [4.4, -0.8, 2.6, 3.9, 2.2, 1.3, 1.3, -0.8, 0.5, 1.7, 2.2, 1.3], \"yaxis\": \"y\"}],\n",
              "                        {\"legend\": {\"tracegroupgap\": 0}, \"template\": {\"data\": {\"bar\": [{\"error_x\": {\"color\": \"#2a3f5f\"}, \"error_y\": {\"color\": \"#2a3f5f\"}, \"marker\": {\"line\": {\"color\": \"#E5ECF6\", \"width\": 0.5}}, \"type\": \"bar\"}], \"barpolar\": [{\"marker\": {\"line\": {\"color\": \"#E5ECF6\", \"width\": 0.5}}, \"type\": \"barpolar\"}], \"carpet\": [{\"aaxis\": {\"endlinecolor\": \"#2a3f5f\", \"gridcolor\": \"white\", \"linecolor\": \"white\", \"minorgridcolor\": \"white\", \"startlinecolor\": \"#2a3f5f\"}, \"baxis\": {\"endlinecolor\": \"#2a3f5f\", \"gridcolor\": \"white\", \"linecolor\": \"white\", \"minorgridcolor\": \"white\", \"startlinecolor\": \"#2a3f5f\"}, \"type\": \"carpet\"}], \"choropleth\": [{\"colorbar\": {\"outlinewidth\": 0, \"ticks\": \"\"}, \"type\": \"choropleth\"}], \"contour\": [{\"colorbar\": {\"outlinewidth\": 0, \"ticks\": \"\"}, \"colorscale\": [[0.0, \"#0d0887\"], [0.1111111111111111, \"#46039f\"], [0.2222222222222222, \"#7201a8\"], [0.3333333333333333, \"#9c179e\"], [0.4444444444444444, \"#bd3786\"], [0.5555555555555556, \"#d8576b\"], [0.6666666666666666, \"#ed7953\"], [0.7777777777777778, \"#fb9f3a\"], [0.8888888888888888, \"#fdca26\"], [1.0, \"#f0f921\"]], \"type\": \"contour\"}], \"contourcarpet\": [{\"colorbar\": {\"outlinewidth\": 0, \"ticks\": \"\"}, \"type\": \"contourcarpet\"}], \"heatmap\": [{\"colorbar\": {\"outlinewidth\": 0, \"ticks\": \"\"}, \"colorscale\": [[0.0, \"#0d0887\"], [0.1111111111111111, \"#46039f\"], [0.2222222222222222, \"#7201a8\"], [0.3333333333333333, \"#9c179e\"], [0.4444444444444444, \"#bd3786\"], [0.5555555555555556, \"#d8576b\"], [0.6666666666666666, \"#ed7953\"], [0.7777777777777778, \"#fb9f3a\"], [0.8888888888888888, \"#fdca26\"], [1.0, \"#f0f921\"]], \"type\": \"heatmap\"}], \"heatmapgl\": [{\"colorbar\": {\"outlinewidth\": 0, \"ticks\": \"\"}, \"colorscale\": [[0.0, \"#0d0887\"], [0.1111111111111111, \"#46039f\"], [0.2222222222222222, \"#7201a8\"], [0.3333333333333333, \"#9c179e\"], [0.4444444444444444, \"#bd3786\"], [0.5555555555555556, \"#d8576b\"], [0.6666666666666666, \"#ed7953\"], [0.7777777777777778, \"#fb9f3a\"], [0.8888888888888888, \"#fdca26\"], [1.0, \"#f0f921\"]], \"type\": \"heatmapgl\"}], \"histogram\": [{\"marker\": {\"colorbar\": {\"outlinewidth\": 0, \"ticks\": \"\"}}, \"type\": \"histogram\"}], \"histogram2d\": [{\"colorbar\": {\"outlinewidth\": 0, \"ticks\": \"\"}, \"colorscale\": [[0.0, \"#0d0887\"], [0.1111111111111111, \"#46039f\"], [0.2222222222222222, \"#7201a8\"], [0.3333333333333333, \"#9c179e\"], [0.4444444444444444, \"#bd3786\"], [0.5555555555555556, \"#d8576b\"], [0.6666666666666666, \"#ed7953\"], [0.7777777777777778, \"#fb9f3a\"], [0.8888888888888888, \"#fdca26\"], [1.0, \"#f0f921\"]], \"type\": \"histogram2d\"}], \"histogram2dcontour\": [{\"colorbar\": {\"outlinewidth\": 0, \"ticks\": \"\"}, \"colorscale\": [[0.0, \"#0d0887\"], [0.1111111111111111, \"#46039f\"], [0.2222222222222222, \"#7201a8\"], [0.3333333333333333, \"#9c179e\"], [0.4444444444444444, \"#bd3786\"], [0.5555555555555556, \"#d8576b\"], [0.6666666666666666, \"#ed7953\"], [0.7777777777777778, \"#fb9f3a\"], [0.8888888888888888, \"#fdca26\"], [1.0, \"#f0f921\"]], \"type\": \"histogram2dcontour\"}], \"mesh3d\": [{\"colorbar\": {\"outlinewidth\": 0, \"ticks\": \"\"}, \"type\": \"mesh3d\"}], \"parcoords\": [{\"line\": {\"colorbar\": {\"outlinewidth\": 0, \"ticks\": \"\"}}, \"type\": \"parcoords\"}], \"pie\": [{\"automargin\": true, \"type\": \"pie\"}], \"scatter\": [{\"marker\": {\"colorbar\": {\"outlinewidth\": 0, \"ticks\": \"\"}}, \"type\": \"scatter\"}], \"scatter3d\": [{\"line\": {\"colorbar\": {\"outlinewidth\": 0, \"ticks\": \"\"}}, \"marker\": {\"colorbar\": {\"outlinewidth\": 0, \"ticks\": \"\"}}, \"type\": \"scatter3d\"}], \"scattercarpet\": [{\"marker\": {\"colorbar\": {\"outlinewidth\": 0, \"ticks\": \"\"}}, \"type\": \"scattercarpet\"}], \"scattergeo\": [{\"marker\": {\"colorbar\": {\"outlinewidth\": 0, \"ticks\": \"\"}}, \"type\": \"scattergeo\"}], \"scattergl\": [{\"marker\": {\"colorbar\": {\"outlinewidth\": 0, \"ticks\": \"\"}}, \"type\": \"scattergl\"}], \"scattermapbox\": [{\"marker\": {\"colorbar\": {\"outlinewidth\": 0, \"ticks\": \"\"}}, \"type\": \"scattermapbox\"}], \"scatterpolar\": [{\"marker\": {\"colorbar\": {\"outlinewidth\": 0, \"ticks\": \"\"}}, \"type\": \"scatterpolar\"}], \"scatterpolargl\": [{\"marker\": {\"colorbar\": {\"outlinewidth\": 0, \"ticks\": \"\"}}, \"type\": \"scatterpolargl\"}], \"scatterternary\": [{\"marker\": {\"colorbar\": {\"outlinewidth\": 0, \"ticks\": \"\"}}, \"type\": \"scatterternary\"}], \"surface\": [{\"colorbar\": {\"outlinewidth\": 0, \"ticks\": \"\"}, \"colorscale\": [[0.0, \"#0d0887\"], [0.1111111111111111, \"#46039f\"], [0.2222222222222222, \"#7201a8\"], [0.3333333333333333, \"#9c179e\"], [0.4444444444444444, \"#bd3786\"], [0.5555555555555556, \"#d8576b\"], [0.6666666666666666, \"#ed7953\"], [0.7777777777777778, \"#fb9f3a\"], [0.8888888888888888, \"#fdca26\"], [1.0, \"#f0f921\"]], \"type\": \"surface\"}], \"table\": [{\"cells\": {\"fill\": {\"color\": \"#EBF0F8\"}, \"line\": {\"color\": \"white\"}}, \"header\": {\"fill\": {\"color\": \"#C8D4E3\"}, \"line\": {\"color\": \"white\"}}, \"type\": \"table\"}]}, \"layout\": {\"annotationdefaults\": {\"arrowcolor\": \"#2a3f5f\", \"arrowhead\": 0, \"arrowwidth\": 1}, \"coloraxis\": {\"colorbar\": {\"outlinewidth\": 0, \"ticks\": \"\"}}, \"colorscale\": {\"diverging\": [[0, \"#8e0152\"], [0.1, \"#c51b7d\"], [0.2, \"#de77ae\"], [0.3, \"#f1b6da\"], [0.4, \"#fde0ef\"], [0.5, \"#f7f7f7\"], [0.6, \"#e6f5d0\"], [0.7, \"#b8e186\"], [0.8, \"#7fbc41\"], [0.9, \"#4d9221\"], [1, \"#276419\"]], \"sequential\": [[0.0, \"#0d0887\"], [0.1111111111111111, \"#46039f\"], [0.2222222222222222, \"#7201a8\"], [0.3333333333333333, \"#9c179e\"], [0.4444444444444444, \"#bd3786\"], [0.5555555555555556, \"#d8576b\"], [0.6666666666666666, \"#ed7953\"], [0.7777777777777778, \"#fb9f3a\"], [0.8888888888888888, \"#fdca26\"], [1.0, \"#f0f921\"]], \"sequentialminus\": [[0.0, \"#0d0887\"], [0.1111111111111111, \"#46039f\"], [0.2222222222222222, \"#7201a8\"], [0.3333333333333333, \"#9c179e\"], [0.4444444444444444, \"#bd3786\"], [0.5555555555555556, \"#d8576b\"], [0.6666666666666666, \"#ed7953\"], [0.7777777777777778, \"#fb9f3a\"], [0.8888888888888888, \"#fdca26\"], [1.0, \"#f0f921\"]]}, \"colorway\": [\"#636efa\", \"#EF553B\", \"#00cc96\", \"#ab63fa\", \"#FFA15A\", \"#19d3f3\", \"#FF6692\", \"#B6E880\", \"#FF97FF\", \"#FECB52\"], \"font\": {\"color\": \"#2a3f5f\"}, \"geo\": {\"bgcolor\": \"white\", \"lakecolor\": \"white\", \"landcolor\": \"#E5ECF6\", \"showlakes\": true, \"showland\": true, \"subunitcolor\": \"white\"}, \"hoverlabel\": {\"align\": \"left\"}, \"hovermode\": \"closest\", \"mapbox\": {\"style\": \"light\"}, \"paper_bgcolor\": \"white\", \"plot_bgcolor\": \"#E5ECF6\", \"polar\": {\"angularaxis\": {\"gridcolor\": \"white\", \"linecolor\": \"white\", \"ticks\": \"\"}, \"bgcolor\": \"#E5ECF6\", \"radialaxis\": {\"gridcolor\": \"white\", \"linecolor\": \"white\", \"ticks\": \"\"}}, \"scene\": {\"xaxis\": {\"backgroundcolor\": \"#E5ECF6\", \"gridcolor\": \"white\", \"gridwidth\": 2, \"linecolor\": \"white\", \"showbackground\": true, \"ticks\": \"\", \"zerolinecolor\": \"white\"}, \"yaxis\": {\"backgroundcolor\": \"#E5ECF6\", \"gridcolor\": \"white\", \"gridwidth\": 2, \"linecolor\": \"white\", \"showbackground\": true, \"ticks\": \"\", \"zerolinecolor\": \"white\"}, \"zaxis\": {\"backgroundcolor\": \"#E5ECF6\", \"gridcolor\": \"white\", \"gridwidth\": 2, \"linecolor\": \"white\", \"showbackground\": true, \"ticks\": \"\", \"zerolinecolor\": \"white\"}}, \"shapedefaults\": {\"line\": {\"color\": \"#2a3f5f\"}}, \"ternary\": {\"aaxis\": {\"gridcolor\": \"white\", \"linecolor\": \"white\", \"ticks\": \"\"}, \"baxis\": {\"gridcolor\": \"white\", \"linecolor\": \"white\", \"ticks\": \"\"}, \"bgcolor\": \"#E5ECF6\", \"caxis\": {\"gridcolor\": \"white\", \"linecolor\": \"white\", \"ticks\": \"\"}}, \"title\": {\"x\": 0.05}, \"xaxis\": {\"automargin\": true, \"gridcolor\": \"white\", \"linecolor\": \"white\", \"ticks\": \"\", \"title\": {\"standoff\": 15}, \"zerolinecolor\": \"white\", \"zerolinewidth\": 2}, \"yaxis\": {\"automargin\": true, \"gridcolor\": \"white\", \"linecolor\": \"white\", \"ticks\": \"\", \"title\": {\"standoff\": 15}, \"zerolinecolor\": \"white\", \"zerolinewidth\": 2}}}, \"title\": {\"text\": \"Inflation Rates Comparison\"}, \"xaxis\": {\"anchor\": \"y\", \"domain\": [0.0, 1.0], \"title\": {\"text\": \"years\"}}, \"yaxis\": {\"anchor\": \"x\", \"domain\": [0.0, 1.0], \"title\": {\"text\": \"inflation_rate\"}}},\n",
              "                        {\"responsive\": true}\n",
              "                    ).then(function(){\n",
              "                            \n",
              "var gd = document.getElementById('66d40e33-e05f-47c8-b02c-f87ea33f54ce');\n",
              "var x = new MutationObserver(function (mutations, observer) {{\n",
              "        var display = window.getComputedStyle(gd).display;\n",
              "        if (!display || display === 'none') {{\n",
              "            console.log([gd, 'removed!']);\n",
              "            Plotly.purge(gd);\n",
              "            observer.disconnect();\n",
              "        }}\n",
              "}});\n",
              "\n",
              "// Listen for the removal of the full notebook cells\n",
              "var notebookContainer = gd.closest('#notebook-container');\n",
              "if (notebookContainer) {{\n",
              "    x.observe(notebookContainer, {childList: true});\n",
              "}}\n",
              "\n",
              "// Listen for the clearing of the current output cell\n",
              "var outputEl = gd.closest('.output');\n",
              "if (outputEl) {{\n",
              "    x.observe(outputEl, {childList: true});\n",
              "}}\n",
              "\n",
              "                        })\n",
              "                };\n",
              "                \n",
              "            </script>\n",
              "        </div>\n",
              "</body>\n",
              "</html>"
            ]
          },
          "metadata": {}
        }
      ]
    }
  ]
}